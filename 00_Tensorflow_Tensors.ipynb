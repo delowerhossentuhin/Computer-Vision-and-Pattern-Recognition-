{
  "nbformat": 4,
  "nbformat_minor": 0,
  "metadata": {
    "colab": {
      "provenance": [],
      "authorship_tag": "ABX9TyNcjRUxoYndIL29DUFWB7jk",
      "include_colab_link": true
    },
    "kernelspec": {
      "name": "python3",
      "display_name": "Python 3"
    },
    "language_info": {
      "name": "python"
    }
  },
  "cells": [
    {
      "cell_type": "markdown",
      "metadata": {
        "id": "view-in-github",
        "colab_type": "text"
      },
      "source": [
        "<a href=\"https://colab.research.google.com/github/delowerhossentuhin/Computer-Vision-and-Pattern-Recognition-/blob/main/00_Tensorflow_Tensors.ipynb\" target=\"_parent\"><img src=\"https://colab.research.google.com/assets/colab-badge.svg\" alt=\"Open In Colab\"/></a>"
      ]
    },
    {
      "cell_type": "code",
      "execution_count": 1,
      "metadata": {
        "id": "k5gA1j7O09KU"
      },
      "outputs": [],
      "source": [
        "import tensorflow as tf\n",
        "import numpy as np"
      ]
    },
    {
      "cell_type": "code",
      "source": [
        "tensor_zero_D = tf.constant(8)\n",
        "print(tensor_zero_D)"
      ],
      "metadata": {
        "colab": {
          "base_uri": "https://localhost:8080/"
        },
        "id": "hGO9uA_62yGS",
        "outputId": "e6b84ac8-a57d-472d-ffa8-4f79081ffe3c"
      },
      "execution_count": 2,
      "outputs": [
        {
          "output_type": "stream",
          "name": "stdout",
          "text": [
            "tf.Tensor(8, shape=(), dtype=int32)\n"
          ]
        }
      ]
    },
    {
      "cell_type": "code",
      "source": [
        "tensor_one_D = tf.constant([3,4,5,6,7])\n",
        "print(tensor_one_D)"
      ],
      "metadata": {
        "colab": {
          "base_uri": "https://localhost:8080/"
        },
        "id": "-AsHKiTA27mf",
        "outputId": "65e4b8b4-edbc-4ad5-8b40-719b9d72645d"
      },
      "execution_count": 3,
      "outputs": [
        {
          "output_type": "stream",
          "name": "stdout",
          "text": [
            "tf.Tensor([3 4 5 6 7], shape=(5,), dtype=int32)\n"
          ]
        }
      ]
    },
    {
      "cell_type": "code",
      "source": [
        "tensor_one_D = tf.constant(np.zeros(5))\n",
        "print(tensor_one_D)"
      ],
      "metadata": {
        "colab": {
          "base_uri": "https://localhost:8080/"
        },
        "id": "FXiXdjAw3BJA",
        "outputId": "48cb2f4c-1a3f-45cd-ffa5-2446dc470e75"
      },
      "execution_count": 4,
      "outputs": [
        {
          "output_type": "stream",
          "name": "stdout",
          "text": [
            "tf.Tensor([0. 0. 0. 0. 0.], shape=(5,), dtype=float64)\n"
          ]
        }
      ]
    },
    {
      "cell_type": "code",
      "source": [
        "tensor_one_D = tf.constant(np.ones(5))\n",
        "print(tensor_one_D)"
      ],
      "metadata": {
        "colab": {
          "base_uri": "https://localhost:8080/"
        },
        "id": "avxJTSVB3NwV",
        "outputId": "74b3ec4f-d342-4ece-f6a7-91d10c2669d8"
      },
      "execution_count": 5,
      "outputs": [
        {
          "output_type": "stream",
          "name": "stdout",
          "text": [
            "tf.Tensor([1. 1. 1. 1. 1.], shape=(5,), dtype=float64)\n"
          ]
        }
      ]
    },
    {
      "cell_type": "code",
      "source": [
        "tensor_two_D = tf.constant(np.full(2,8))\n",
        "print(tensor_two_D)"
      ],
      "metadata": {
        "colab": {
          "base_uri": "https://localhost:8080/"
        },
        "id": "QaErEyvV3WK5",
        "outputId": "3b4d74a1-2576-418a-e102-90cdc0b7b096"
      },
      "execution_count": 6,
      "outputs": [
        {
          "output_type": "stream",
          "name": "stdout",
          "text": [
            "tf.Tensor([8 8], shape=(2,), dtype=int64)\n"
          ]
        }
      ]
    },
    {
      "cell_type": "code",
      "source": [
        "tensor_multi_D = tf.constant(np.full((4,2,6),np.array([1,-2,3,-4,5,-6])), dtype=tf.float32)\n",
        "print(tensor_multi_D)"
      ],
      "metadata": {
        "colab": {
          "base_uri": "https://localhost:8080/"
        },
        "id": "sclSmqrQ3xzG",
        "outputId": "1a58d307-38f5-451c-8ba5-f5ba038d2e6a"
      },
      "execution_count": 7,
      "outputs": [
        {
          "output_type": "stream",
          "name": "stdout",
          "text": [
            "tf.Tensor(\n",
            "[[[ 1. -2.  3. -4.  5. -6.]\n",
            "  [ 1. -2.  3. -4.  5. -6.]]\n",
            "\n",
            " [[ 1. -2.  3. -4.  5. -6.]\n",
            "  [ 1. -2.  3. -4.  5. -6.]]\n",
            "\n",
            " [[ 1. -2.  3. -4.  5. -6.]\n",
            "  [ 1. -2.  3. -4.  5. -6.]]\n",
            "\n",
            " [[ 1. -2.  3. -4.  5. -6.]\n",
            "  [ 1. -2.  3. -4.  5. -6.]]], shape=(4, 2, 6), dtype=float32)\n"
          ]
        }
      ]
    },
    {
      "cell_type": "code",
      "source": [
        "print(tensor_multi_D.shape)"
      ],
      "metadata": {
        "colab": {
          "base_uri": "https://localhost:8080/"
        },
        "id": "LU7eCP3l399d",
        "outputId": "60d356e4-bc1e-48ae-cfbd-f309b36fb5cc"
      },
      "execution_count": 8,
      "outputs": [
        {
          "output_type": "stream",
          "name": "stdout",
          "text": [
            "(4, 2, 6)\n"
          ]
        }
      ]
    },
    {
      "cell_type": "code",
      "source": [
        "print(tensor_multi_D.ndim)"
      ],
      "metadata": {
        "colab": {
          "base_uri": "https://localhost:8080/"
        },
        "id": "bIJKDu9v4_ha",
        "outputId": "0b61a2ee-6652-4b15-e58e-8846c27dc14a"
      },
      "execution_count": 9,
      "outputs": [
        {
          "output_type": "stream",
          "name": "stdout",
          "text": [
            "3\n"
          ]
        }
      ]
    },
    {
      "cell_type": "markdown",
      "source": [
        "**Casting**\n",
        "\n",
        "\n",
        "---\n",
        "\n",
        "\n",
        "***In TensorFlow (and NumPy, and Python),\n",
        "any non-zero value → True,\n",
        "zero → False.***"
      ],
      "metadata": {
        "id": "02Jrl4rnC0ZS"
      }
    },
    {
      "cell_type": "code",
      "source": [
        "org_tensor = tf.constant(np.full((4,2,6),np.array([1,-2,3,-4,0,-6])), dtype=tf.float32)\n",
        "print(org_tensor)\n",
        "cast_tensor = tf.cast(org_tensor,dtype=tf.int64)\n",
        "print(cast_tensor)\n",
        "cast_tensor = tf.cast(cast_tensor,dtype=tf.bool)\n",
        "print(cast_tensor)"
      ],
      "metadata": {
        "colab": {
          "base_uri": "https://localhost:8080/"
        },
        "id": "OmdmfuEfA9s8",
        "outputId": "bf5f9153-20e9-41f1-e152-b14c4c640427"
      },
      "execution_count": 10,
      "outputs": [
        {
          "output_type": "stream",
          "name": "stdout",
          "text": [
            "tf.Tensor(\n",
            "[[[ 1. -2.  3. -4.  0. -6.]\n",
            "  [ 1. -2.  3. -4.  0. -6.]]\n",
            "\n",
            " [[ 1. -2.  3. -4.  0. -6.]\n",
            "  [ 1. -2.  3. -4.  0. -6.]]\n",
            "\n",
            " [[ 1. -2.  3. -4.  0. -6.]\n",
            "  [ 1. -2.  3. -4.  0. -6.]]\n",
            "\n",
            " [[ 1. -2.  3. -4.  0. -6.]\n",
            "  [ 1. -2.  3. -4.  0. -6.]]], shape=(4, 2, 6), dtype=float32)\n",
            "tf.Tensor(\n",
            "[[[ 1 -2  3 -4  0 -6]\n",
            "  [ 1 -2  3 -4  0 -6]]\n",
            "\n",
            " [[ 1 -2  3 -4  0 -6]\n",
            "  [ 1 -2  3 -4  0 -6]]\n",
            "\n",
            " [[ 1 -2  3 -4  0 -6]\n",
            "  [ 1 -2  3 -4  0 -6]]\n",
            "\n",
            " [[ 1 -2  3 -4  0 -6]\n",
            "  [ 1 -2  3 -4  0 -6]]], shape=(4, 2, 6), dtype=int64)\n",
            "tf.Tensor(\n",
            "[[[ True  True  True  True False  True]\n",
            "  [ True  True  True  True False  True]]\n",
            "\n",
            " [[ True  True  True  True False  True]\n",
            "  [ True  True  True  True False  True]]\n",
            "\n",
            " [[ True  True  True  True False  True]\n",
            "  [ True  True  True  True False  True]]\n",
            "\n",
            " [[ True  True  True  True False  True]\n",
            "  [ True  True  True  True False  True]]], shape=(4, 2, 6), dtype=bool)\n"
          ]
        }
      ]
    },
    {
      "cell_type": "markdown",
      "source": [
        "***Identity Matrix using eye method***"
      ],
      "metadata": {
        "id": "Pb_mcY7iFSJe"
      }
    },
    {
      "cell_type": "code",
      "source": [
        "eye_tensor = tf.eye(\n",
        "    num_rows = 4,\n",
        "    num_columns=7,\n",
        "    batch_shape=(3,),\n",
        "    dtype=tf.dtypes.float32,\n",
        "    name=None\n",
        ")\n",
        "print(eye_tensor)"
      ],
      "metadata": {
        "colab": {
          "base_uri": "https://localhost:8080/"
        },
        "id": "fX1ABrXRC_sV",
        "outputId": "daea85a9-2af0-493c-93c0-9bd8759dbc1e"
      },
      "execution_count": 11,
      "outputs": [
        {
          "output_type": "stream",
          "name": "stdout",
          "text": [
            "tf.Tensor(\n",
            "[[[1. 0. 0. 0. 0. 0. 0.]\n",
            "  [0. 1. 0. 0. 0. 0. 0.]\n",
            "  [0. 0. 1. 0. 0. 0. 0.]\n",
            "  [0. 0. 0. 1. 0. 0. 0.]]\n",
            "\n",
            " [[1. 0. 0. 0. 0. 0. 0.]\n",
            "  [0. 1. 0. 0. 0. 0. 0.]\n",
            "  [0. 0. 1. 0. 0. 0. 0.]\n",
            "  [0. 0. 0. 1. 0. 0. 0.]]\n",
            "\n",
            " [[1. 0. 0. 0. 0. 0. 0.]\n",
            "  [0. 1. 0. 0. 0. 0. 0.]\n",
            "  [0. 0. 1. 0. 0. 0. 0.]\n",
            "  [0. 0. 0. 1. 0. 0. 0.]]], shape=(3, 4, 7), dtype=float32)\n"
          ]
        }
      ]
    },
    {
      "cell_type": "markdown",
      "source": [
        "**tf.fill method**"
      ],
      "metadata": {
        "id": "inBbNzpRKol5"
      }
    },
    {
      "cell_type": "code",
      "source": [
        "fill_tensor = tf.fill((3,4),9.)\n",
        "print(fill_tensor)"
      ],
      "metadata": {
        "colab": {
          "base_uri": "https://localhost:8080/"
        },
        "id": "PH9YiI4RFfL7",
        "outputId": "f0f4213d-09f3-4416-98a5-5a7778aa5471"
      },
      "execution_count": 12,
      "outputs": [
        {
          "output_type": "stream",
          "name": "stdout",
          "text": [
            "tf.Tensor(\n",
            "[[9. 9. 9. 9.]\n",
            " [9. 9. 9. 9.]\n",
            " [9. 9. 9. 9.]], shape=(3, 4), dtype=float32)\n"
          ]
        }
      ]
    },
    {
      "cell_type": "code",
      "source": [
        "ones_like_tensor = tf.ones_like(org_tensor)\n",
        "print(ones_like_tensor)"
      ],
      "metadata": {
        "colab": {
          "base_uri": "https://localhost:8080/"
        },
        "id": "gvjILz82LeXd",
        "outputId": "5ea874cf-c044-4566-e328-1a4e91e6d801"
      },
      "execution_count": 14,
      "outputs": [
        {
          "output_type": "stream",
          "name": "stdout",
          "text": [
            "tf.Tensor(\n",
            "[[[1. 1. 1. 1. 1. 1.]\n",
            "  [1. 1. 1. 1. 1. 1.]]\n",
            "\n",
            " [[1. 1. 1. 1. 1. 1.]\n",
            "  [1. 1. 1. 1. 1. 1.]]\n",
            "\n",
            " [[1. 1. 1. 1. 1. 1.]\n",
            "  [1. 1. 1. 1. 1. 1.]]\n",
            "\n",
            " [[1. 1. 1. 1. 1. 1.]\n",
            "  [1. 1. 1. 1. 1. 1.]]], shape=(4, 2, 6), dtype=float32)\n"
          ]
        }
      ]
    },
    {
      "cell_type": "markdown",
      "source": [
        "*https://www.acsu.buffalo.edu/~adamcunn/probability/normal.html*"
      ],
      "metadata": {
        "id": "3kpk2jAuTA7I"
      }
    },
    {
      "cell_type": "code",
      "source": [
        "random_tensor = tf.random.normal(\n",
        "    shape = (3,4),\n",
        "    mean=100.0,\n",
        "    stddev=10.0,\n",
        "    dtype=tf.dtypes.float32,\n",
        "    seed=None,\n",
        "    name=None\n",
        ")\n",
        "print(random_tensor)"
      ],
      "metadata": {
        "colab": {
          "base_uri": "https://localhost:8080/"
        },
        "id": "PIAmOb3WM-1C",
        "outputId": "c6968865-fe19-41e8-e944-88274b2f239f"
      },
      "execution_count": 23,
      "outputs": [
        {
          "output_type": "stream",
          "name": "stdout",
          "text": [
            "tf.Tensor(\n",
            "[[ 97.524414  95.859955 110.45157   81.843   ]\n",
            " [ 91.66758   97.927574 111.76755   93.38109 ]\n",
            " [ 93.41674  106.40996  100.98981  114.227745]], shape=(3, 4), dtype=float32)\n"
          ]
        }
      ]
    },
    {
      "cell_type": "code",
      "source": [
        "tf.random.uniform(\n",
        "    shape = (3,2),\n",
        "    minval=0,\n",
        "    maxval=10,\n",
        "    dtype=tf.dtypes.float32,\n",
        "    seed=None,\n",
        "    name=None\n",
        ")"
      ],
      "metadata": {
        "colab": {
          "base_uri": "https://localhost:8080/"
        },
        "id": "WUgkk-bQQr8s",
        "outputId": "b5a927a5-13c7-4142-f5aa-5c6e3e5fad6d"
      },
      "execution_count": 24,
      "outputs": [
        {
          "output_type": "execute_result",
          "data": {
            "text/plain": [
              "<tf.Tensor: shape=(3, 2), dtype=float32, numpy=\n",
              "array([[1.9011545, 9.234339 ],\n",
              "       [7.936445 , 8.059598 ],\n",
              "       [6.4824953, 2.6811206]], dtype=float32)>"
            ]
          },
          "metadata": {},
          "execution_count": 24
        }
      ]
    },
    {
      "cell_type": "code",
      "source": [],
      "metadata": {
        "id": "GFG9wB05STcg"
      },
      "execution_count": null,
      "outputs": []
    }
  ]
}